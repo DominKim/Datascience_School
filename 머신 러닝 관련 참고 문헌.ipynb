{
 "cells": [
  {
   "cell_type": "markdown",
   "metadata": {
    "school_cell_uuid": "cc6f4c0c06df4940b627c9015936d6b7"
   },
   "source": [
    "# 머신 러닝 관련 참고 문헌"
   ]
  },
  {
   "cell_type": "markdown",
   "metadata": {
    "school_cell_uuid": "b56db486b72647c1a73ef36b4e858856"
   },
   "source": [
    "## 텍스트 북"
   ]
  },
  {
   "cell_type": "markdown",
   "metadata": {
    "school_cell_uuid": "354cc1ba9b144f1c9534e3240424cb47"
   },
   "source": [
    "* Bishop, \"Pattern Recognition and Machine Learning\"\n",
    "     * http://research.microsoft.com/en-us/um/people/cmbishop/prml/index.htm\n",
    "* Barber, \"Bayesian Reasoning and Machine Learning\"\n",
    "    * http://web4.cs.ucl.ac.uk/staff/D.Barber/textbook/181115.pdf\n",
    "* Hastie, et al., \"The Elements of Statistical Learning: Data Mining, Inference, and Prediction\"\n",
    "    * http://statweb.stanford.edu/~tibs/ElemStatLearn/printings/ESLII_print10.pdf\n",
    "* MacKay, \"Information Theory, Inference, and Learning Algorithms\"\n",
    "    * http://www.inference.phy.cam.ac.uk/itprnn/book.pdf\n",
    "* Murphy, \"Machine learning: a probabilistic perspective\"\n",
    "    * https://mitpress.mit.edu/books/machine-learning-0"
   ]
  },
  {
   "cell_type": "markdown",
   "metadata": {
    "school_cell_uuid": "620d240e296d4a36b9875f4ff9a302c9"
   },
   "source": [
    "## scikit-learn 관련 도서"
   ]
  },
  {
   "cell_type": "markdown",
   "metadata": {
    "school_cell_uuid": "47661144e8344ba4a2ce33ec4d8af3c7"
   },
   "source": [
    "* Learning scikit-learn: Machine Learning in Python\n",
    "    * Raúl Garreta, Guillermo Moncecchi\n",
    "    * https://www.packtpub.com/big-data-and-business-intelligence/learning-scikit-learn-machine-learning-python\n",
    "    * https://github.com/gmonce/scikit-learn-book\n",
    "    * http://www.amazon.com/Learning-scikit-learn-Machine-Python/dp/1783281936\n",
    "\n",
    "\n",
    "* Building Machine Learning Systems with Python\n",
    "    * Willi Richert, Luis Pedro Coelho\n",
    "    * https://www.packtpub.com/big-data-and-business-intelligence/building-machine-learning-systems-python\n",
    "    * https://github.com/luispedro/BuildingMachineLearningSystemsWithPython\n",
    "    * http://www.amazon.com/Building-Machine-Learning-Systems-Python/dp/1782161406"
   ]
  }
 ],
 "metadata": {
  "kernelspec": {
   "display_name": "Python 2",
   "language": "python",
   "name": "python2"
  },
  "language_info": {
   "codemirror_mode": {
    "name": "ipython",
    "version": 2
   },
   "file_extension": ".py",
   "mimetype": "text/x-python",
   "name": "python",
   "nbconvert_exporter": "python",
   "pygments_lexer": "ipython2",
   "version": "2.7.11"
  }
 },
 "nbformat": 4,
 "nbformat_minor": 0
}